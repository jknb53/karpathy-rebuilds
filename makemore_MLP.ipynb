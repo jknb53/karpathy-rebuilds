{
 "cells": [
  {
   "cell_type": "code",
   "execution_count": 1,
   "id": "1d32c9b2",
   "metadata": {},
   "outputs": [],
   "source": [
    "import torch\n",
    "import torch.nn.functional as F\n",
    "import random\n",
    "\n",
    "import matplotlib.pyplot as plt\n",
    "%matplotlib inline"
   ]
  },
  {
   "cell_type": "markdown",
   "id": "4a72c608",
   "metadata": {},
   "source": [
    "***test  ***"
   ]
  },
  {
   "cell_type": "code",
   "execution_count": 2,
   "id": "e820846c",
   "metadata": {},
   "outputs": [
    {
     "data": {
      "text/plain": [
       "['emma', 'olivia', 'ava', 'isabella', 'sophia']"
      ]
     },
     "execution_count": 2,
     "metadata": {},
     "output_type": "execute_result"
    }
   ],
   "source": [
    "#import source data\n",
    "words = open('./names.txt','r').read().splitlines()\n",
    "words[:5]"
   ]
  },
  {
   "cell_type": "code",
   "execution_count": 3,
   "id": "36750669",
   "metadata": {},
   "outputs": [
    {
     "data": {
      "text/plain": [
       "32033"
      ]
     },
     "execution_count": 3,
     "metadata": {},
     "output_type": "execute_result"
    }
   ],
   "source": [
    "len(words)"
   ]
  },
  {
   "cell_type": "code",
   "execution_count": 4,
   "id": "376dc0c1",
   "metadata": {},
   "outputs": [],
   "source": [
    "i , j =list(enumerate(words[:1]))[0]\n",
    "# i  , j"
   ]
  },
  {
   "cell_type": "code",
   "execution_count": 5,
   "id": "c87c54ef",
   "metadata": {},
   "outputs": [],
   "source": [
    "#creat a number to string dic\n",
    "chars = sorted(list(set(''.join(words))))\n",
    "chars = ['.'] + chars\n",
    "# chars\n",
    "itos = {i : j for i , j in enumerate(chars)}\n",
    "# itos"
   ]
  },
  {
   "cell_type": "code",
   "execution_count": 6,
   "id": "27d8f2ae",
   "metadata": {},
   "outputs": [],
   "source": [
    "#stoi\n",
    "stoi = {j : i for i ,j in itos.items()}\n",
    "# stoi"
   ]
  },
  {
   "cell_type": "code",
   "execution_count": 7,
   "id": "3904be9f",
   "metadata": {},
   "outputs": [],
   "source": [
    "X , Y = [] , []"
   ]
  },
  {
   "cell_type": "code",
   "execution_count": 8,
   "id": "2583e15a",
   "metadata": {},
   "outputs": [],
   "source": [
    "#dataset(train   dev  test)\n",
    "contextNum = 3\n",
    "for word in words[:5] :\n",
    "    SlidingWindow = contextNum * [0]\n",
    "    for char in word + '.' :\n",
    "        yi = stoi[char]\n",
    "        X.append(SlidingWindow)\n",
    "        Y.append(yi)\n",
    "        # print(''.join( itos[i] for i in SlidingWindow) + \"    ---->    \" + char)\n",
    "        SlidingWindow = SlidingWindow[1:] + [yi]\n",
    "\n",
    "X = torch.tensor(X)\n",
    "Y = torch.tensor(Y)                \n"
   ]
  },
  {
   "cell_type": "code",
   "execution_count": 9,
   "id": "35954fd7",
   "metadata": {},
   "outputs": [
    {
     "data": {
      "text/plain": [
       "(tensor([[ 0,  0,  0],\n",
       "         [ 0,  0,  5],\n",
       "         [ 0,  5, 13],\n",
       "         [ 5, 13, 13],\n",
       "         [13, 13,  1],\n",
       "         [ 0,  0,  0],\n",
       "         [ 0,  0, 15],\n",
       "         [ 0, 15, 12],\n",
       "         [15, 12,  9],\n",
       "         [12,  9, 22],\n",
       "         [ 9, 22,  9],\n",
       "         [22,  9,  1],\n",
       "         [ 0,  0,  0],\n",
       "         [ 0,  0,  1],\n",
       "         [ 0,  1, 22],\n",
       "         [ 1, 22,  1],\n",
       "         [ 0,  0,  0],\n",
       "         [ 0,  0,  9],\n",
       "         [ 0,  9, 19],\n",
       "         [ 9, 19,  1],\n",
       "         [19,  1,  2],\n",
       "         [ 1,  2,  5],\n",
       "         [ 2,  5, 12],\n",
       "         [ 5, 12, 12],\n",
       "         [12, 12,  1],\n",
       "         [ 0,  0,  0],\n",
       "         [ 0,  0, 19],\n",
       "         [ 0, 19, 15],\n",
       "         [19, 15, 16],\n",
       "         [15, 16,  8],\n",
       "         [16,  8,  9],\n",
       "         [ 8,  9,  1]]),\n",
       " torch.Size([32, 3]),\n",
       " torch.int64)"
      ]
     },
     "execution_count": 9,
     "metadata": {},
     "output_type": "execute_result"
    }
   ],
   "source": [
    "X ,  X.shape   ,X.dtype"
   ]
  },
  {
   "cell_type": "code",
   "execution_count": 10,
   "id": "ab11b7bb",
   "metadata": {},
   "outputs": [
    {
     "data": {
      "text/plain": [
       "(tensor([ 5, 13, 13,  1,  0, 15, 12,  9, 22,  9,  1,  0,  1, 22,  1,  0,  9, 19,\n",
       "          1,  2,  5, 12, 12,  1,  0, 19, 15, 16,  8,  9,  1,  0]),\n",
       " torch.Size([32]),\n",
       " torch.int64)"
      ]
     },
     "execution_count": 10,
     "metadata": {},
     "output_type": "execute_result"
    }
   ],
   "source": [
    "Y , Y.shape ,Y.dtype"
   ]
  },
  {
   "cell_type": "code",
   "execution_count": 11,
   "id": "92420c8e",
   "metadata": {},
   "outputs": [
    {
     "data": {
      "text/plain": [
       "torch.Size([32, 3, 2])"
      ]
     },
     "execution_count": 11,
     "metadata": {},
     "output_type": "execute_result"
    }
   ],
   "source": [
    "#embedding table\n",
    "C = torch.randn((27,2))\n",
    "# C\n",
    "emb = C[X]\n",
    "emb.shape\n",
    "# plt.plot(torch.arange(27),C)"
   ]
  },
  {
   "cell_type": "code",
   "execution_count": 12,
   "id": "39b86b6d",
   "metadata": {},
   "outputs": [],
   "source": [
    "#parameters init\n",
    "g = torch.Generator().manual_seed(2147483647) \n",
    "W1 = torch.randn(6,100, generator=g)\n",
    "b1   = torch.randn(100, generator=g)\n",
    "W2 = torch.randn((100,27), generator=g)\n",
    "b2 = torch.randn(27, generator=g)\n",
    "Parameters = [W1,b1,W2,b2,C]"
   ]
  },
  {
   "cell_type": "code",
   "execution_count": 13,
   "id": "f6610d0c",
   "metadata": {},
   "outputs": [],
   "source": [
    "for p in Parameters:\n",
    "    p.requires_grad = True"
   ]
  },
  {
   "cell_type": "code",
   "execution_count": 14,
   "id": "d6284c8b",
   "metadata": {},
   "outputs": [],
   "source": [
    "lossi =[]\n",
    "iterration = []"
   ]
  },
  {
   "cell_type": "code",
   "execution_count": 15,
   "id": "e8626de2",
   "metadata": {},
   "outputs": [
    {
     "name": "stdout",
     "output_type": "stream",
     "text": [
      "0.34229281544685364\n"
     ]
    }
   ],
   "source": [
    "#forward  and back  propagation\n",
    "for i in range(100):\n",
    "    emb = C[X]\n",
    "    h = torch.tanh(emb.view(-1,6)@W1 + b1)\n",
    "    logits = h@W2 +b2\n",
    "    loss = F.cross_entropy(logits,Y)\n",
    "    for p in Parameters:\n",
    "        p.grad = None\n",
    "    loss.backward()\n",
    "\n",
    "    for p in Parameters:\n",
    "        p.data  += -0.1*p.grad\n",
    "    lossi.append(loss.item())\n",
    "    iterration.append(i)\n",
    "    \n",
    "print(loss.item())"
   ]
  },
  {
   "cell_type": "code",
   "execution_count": 16,
   "id": "57f6e438",
   "metadata": {},
   "outputs": [
    {
     "data": {
      "text/plain": [
       "[<matplotlib.lines.Line2D at 0x18a8a6b08d0>]"
      ]
     },
     "execution_count": 16,
     "metadata": {},
     "output_type": "execute_result"
    },
    {
     "data": {
      "image/png": "[encoded data removed]",
      "text/plain": [
       "<Figure size 640x480 with 1 Axes>"
      ]
     },
     "metadata": {},
     "output_type": "display_data"
    }
   ],
   "source": [
    "plt.plot(iterration,lossi)"
   ]
  },
  {
   "cell_type": "code",
   "execution_count": 17,
   "id": "ded705d4",
   "metadata": {},
   "outputs": [
    {
     "data": {
      "text/plain": [
       "tensor([28, 14,  5, 25, 23, 14,  6, 17, 21, 18, 20, 29, 10, 10, 19,  7, 28, 11,\n",
       "        30,  6,  4, 20, 16, 10, 31, 25,  2, 24, 17, 28,  3,  5])"
      ]
     },
     "execution_count": 17,
     "metadata": {},
     "output_type": "execute_result"
    }
   ],
   "source": [
    "torch.randint(Y.shape[0],(32,),generator=g)"
   ]
  },
  {
   "cell_type": "code",
   "execution_count": 18,
   "id": "aef8fda7",
   "metadata": {},
   "outputs": [
    {
     "data": {
      "text/plain": [
       "3481"
      ]
     },
     "execution_count": 18,
     "metadata": {},
     "output_type": "execute_result"
    }
   ],
   "source": [
    "sum(p.nelement() for p in Parameters)"
   ]
  },
  {
   "cell_type": "markdown",
   "id": "3f739726",
   "metadata": {},
   "source": [
    "***batch***"
   ]
  },
  {
   "cell_type": "code",
   "execution_count": 19,
   "id": "4ecd1128",
   "metadata": {},
   "outputs": [
    {
     "name": "stdout",
     "output_type": "stream",
     "text": [
      "0.3181654214859009\n"
     ]
    }
   ],
   "source": [
    "#forward  and back  propagation   BATCH\n",
    "for i in range(100):\n",
    "    batchi = torch.randint(Y.shape[0],(32,),generator=g)\n",
    "    emb = C[X[batchi]] #X[batch] (32,3) embedding just like extends two dims\n",
    "    h = torch.tanh(emb.view(-1,6)@W1 + b1)\n",
    "    logits = h@W2 +b2\n",
    "    loss = F.cross_entropy(logits,Y[batchi])\n",
    "    for p in Parameters:\n",
    "        p.grad = None\n",
    "    loss.backward()\n",
    "\n",
    "    for p in Parameters:\n",
    "        p.data  += -0.03*p.grad\n",
    "    lossi.append(loss.item())\n",
    "    iterration.append(i)\n",
    "    \n",
    "print(loss.item())"
   ]
  },
  {
   "cell_type": "code",
   "execution_count": 20,
   "id": "90213e96",
   "metadata": {},
   "outputs": [
    {
     "data": {
      "text/plain": [
       "(tensor([[ 1.2806e+01,  6.1096e+00,  7.1055e+00, -5.6946e+00, -1.0387e+01,\n",
       "           1.4033e+00, -2.7661e+00, -6.1172e+00, -2.7983e+00,  4.2328e+00,\n",
       "          -3.5294e-01, -1.8667e+00,  4.6223e+00, -1.3134e+01,  1.3246e+00,\n",
       "           2.2001e+00,  3.2483e-01, -2.3366e+00, -1.7521e+01,  5.0455e+00,\n",
       "           6.9310e+00,  6.6470e-01,  6.5508e+00, -3.4081e+00, -1.5140e+00,\n",
       "          -5.4888e+00, -3.9281e+00],\n",
       "         [ 1.6084e+00,  8.8337e+00,  7.8723e+00, -5.5220e+00, -1.1051e+01,\n",
       "           6.4762e+00, -4.2332e+00, -2.0638e+00, -6.0371e+00,  1.4353e+01,\n",
       "           2.3087e+00, -1.1834e-01,  3.5997e+00, -6.9857e+00, -1.6586e+00,\n",
       "          -1.6200e+00,  9.2450e+00, -4.0817e+00, -5.3516e+00,  2.5796e+00,\n",
       "          -5.7206e+00, -4.4654e+00, -4.6254e+00, -4.1690e+00,  3.4643e+00,\n",
       "           3.8053e+00, -1.1285e+01],\n",
       "         [-5.7553e+00,  4.6105e+00, -3.6598e+00, -8.4967e+00, -5.2850e+00,\n",
       "           3.8646e+00, -4.4236e+00, -6.0987e-01, -7.5793e+00,  4.7317e+00,\n",
       "          -9.1632e+00, -5.0911e-01,  1.4861e+00, -6.2868e-01, -1.0155e+01,\n",
       "           4.1174e+00, -4.9791e+00, -3.3764e+00, -2.8503e+00,  4.4750e+00,\n",
       "          -1.4980e+00, -3.4928e-01, -4.8146e+00, -9.3253e+00, -1.0544e+01,\n",
       "          -2.5028e+00, -5.8547e+00],\n",
       "         [-4.5038e+00,  5.6135e+00, -1.0076e+01, -8.9783e+00, -3.4849e+00,\n",
       "           1.3015e+00, -8.8466e-01, -2.8885e+00, -2.0085e+00,  5.1206e-01,\n",
       "          -6.9893e+00, -2.2716e+00,  9.7036e+00,  7.8045e+00, -1.1732e+01,\n",
       "           5.8376e+00, -4.1783e+00, -9.5547e-01,  9.1499e-01,  6.5485e+00,\n",
       "           8.0502e-01, -7.7541e-01,  4.5484e+00, -2.8514e+00, -1.1522e+01,\n",
       "          -2.2886e-01, -9.3534e-01],\n",
       "         [-8.5082e-01,  1.4250e+01, -6.5276e-01, -2.9530e+00, -1.2065e+01,\n",
       "           1.7700e+01, -1.6973e+00, -5.0687e+00,  3.5030e+00,  9.9203e-01,\n",
       "          -5.8267e+00,  2.8505e+00, -4.4244e+00, -4.4970e+00, -9.4423e+00,\n",
       "          -9.5106e+00, -3.0119e+00, -5.7528e+00,  6.8864e+00,  1.9336e+00,\n",
       "          -4.6436e+00, -9.2086e+00, -6.0463e+00, -1.3852e+01,  5.5803e+00,\n",
       "           3.5423e+00, -9.6371e+00],\n",
       "         [ 1.2324e+01,  5.6515e+00,  6.5473e+00, -5.2129e+00, -6.9132e+00,\n",
       "          -4.3382e-01, -3.0405e+00, -6.1387e+00, -2.0302e+00,  6.0109e+00,\n",
       "           2.5860e+00, -3.2195e+00,  4.3979e+00, -1.3385e+01,  2.2265e+00,\n",
       "           4.6549e+00,  6.3064e-01, -4.0532e+00, -1.9301e+01,  2.5929e+00,\n",
       "           3.1061e+00,  1.4571e+00,  6.2871e+00, -3.0745e+00, -1.5724e+00,\n",
       "          -7.0182e+00, -3.1952e+00],\n",
       "         [ 1.2622e+00,  1.4282e+01, -7.5311e+00, -3.6386e+00, -3.1056e+00,\n",
       "           3.5284e+00, -2.2338e+00, -2.7802e+00, -3.2376e+00, -4.1687e+00,\n",
       "           6.4910e-01, -2.4929e+00,  8.9996e+00,  1.1045e+01, -1.1739e+01,\n",
       "           1.1817e+01, -2.3640e-01, -2.4592e+00,  4.7767e+00,  4.6731e+00,\n",
       "           1.4450e+00, -4.4970e+00,  8.7936e+00,  8.3391e+00, -9.9872e+00,\n",
       "          -2.7633e+00,  7.4892e+00],\n",
       "         [-1.0497e+01,  7.4939e+00, -1.4844e+01, -9.0628e+00, -7.6027e+00,\n",
       "           6.7094e+00, -4.3477e+00,  6.1372e+00, -1.0290e+01,  8.7995e+00,\n",
       "          -6.4632e+00,  1.5693e+00,  8.8554e+00,  1.4069e+01, -1.9291e+01,\n",
       "           7.1253e+00,  9.5611e+00, -3.4982e+00,  7.4417e-01,  1.3632e+00,\n",
       "           4.0062e+00,  1.8438e-01, -1.8600e+00,  3.2958e+00, -1.1979e+01,\n",
       "          -2.2996e+00, -4.1931e+00],\n",
       "         [-1.5448e+00,  7.8986e+00, -2.2956e+00, -6.4447e+00, -5.3812e+00,\n",
       "           3.3834e+00, -3.1506e+00, -7.8102e+00, -5.0667e+00,  8.8633e-03,\n",
       "          -4.9440e+00, -2.1290e+00,  2.5328e+00, -4.4106e+00, -6.1311e+00,\n",
       "           7.8405e-01,  1.4923e+00, -3.6360e+00, -1.5629e+01,  4.1504e+00,\n",
       "          -8.1214e-01, -5.3276e+00,  3.6539e+00, -8.8885e+00, -2.5553e+00,\n",
       "          -8.7382e+00, -8.3651e+00],\n",
       "         [ 1.1406e+01,  5.9016e+00,  6.8591e+00,  4.0002e+00,  2.8833e+00,\n",
       "          -2.1173e+00,  1.2443e+00, -1.7021e+01, -2.3781e-01,  2.4098e+00,\n",
       "           5.0308e+00, -2.8584e+00,  6.7999e+00, -1.0636e+01, -8.8429e-01,\n",
       "           2.6120e+00,  3.7401e+00, -4.2307e+00, -2.3458e+01, -1.5585e+00,\n",
       "          -1.9495e+00,  1.7672e+00,  9.9429e-01, -1.2980e+00,  5.8543e+00,\n",
       "          -1.1898e+01, -2.9728e+00],\n",
       "         [ 1.0609e+01,  7.3515e+00,  5.5143e+00,  9.6045e+00, -2.3532e+00,\n",
       "           4.2470e+00, -3.7582e+00, -2.9447e+00,  1.6350e+01, -1.4290e+00,\n",
       "          -1.3340e+01,  4.2366e+00, -1.4546e+00,  3.1280e-01,  1.0150e+01,\n",
       "          -1.5199e+01,  1.0761e+00,  1.1018e+01,  1.0661e+01,  8.7616e-01,\n",
       "           6.0434e+00, -1.2140e+01,  1.1803e+01,  1.0609e+01,  6.4877e+00,\n",
       "           2.9916e+00, -3.7183e+00],\n",
       "         [-1.8901e+00,  7.7115e+00, -9.4173e+00,  1.3831e+00,  6.2284e+00,\n",
       "          -2.6712e+00,  8.9274e-01, -4.3804e+00, -3.0207e+00, -4.7718e+00,\n",
       "           4.3003e+00,  2.0013e+00,  1.0862e+01,  2.9781e+00, -6.8158e+00,\n",
       "           1.6770e+00,  4.8155e+00, -6.0141e-01, -1.2251e+01, -3.2446e+00,\n",
       "          -7.1739e+00,  4.9477e+00,  5.2822e+00, -1.2173e+00, -3.3470e+00,\n",
       "          -8.5225e+00,  4.1220e+00],\n",
       "         [-1.5448e+00,  7.8986e+00, -2.2956e+00, -6.4447e+00, -5.3812e+00,\n",
       "           3.3834e+00, -3.1506e+00, -7.8102e+00, -5.0667e+00,  8.8633e-03,\n",
       "          -4.9440e+00, -2.1290e+00,  2.5328e+00, -4.4106e+00, -6.1311e+00,\n",
       "           7.8405e-01,  1.4923e+00, -3.6360e+00, -1.5629e+01,  4.1504e+00,\n",
       "          -8.1214e-01, -5.3276e+00,  3.6539e+00, -8.8885e+00, -2.5553e+00,\n",
       "          -8.7382e+00, -8.3651e+00],\n",
       "         [-5.7553e+00,  4.6105e+00, -3.6598e+00, -8.4967e+00, -5.2850e+00,\n",
       "           3.8646e+00, -4.4236e+00, -6.0987e-01, -7.5793e+00,  4.7317e+00,\n",
       "          -9.1632e+00, -5.0911e-01,  1.4861e+00, -6.2868e-01, -1.0155e+01,\n",
       "           4.1174e+00, -4.9791e+00, -3.3764e+00, -2.8503e+00,  4.4750e+00,\n",
       "          -1.4980e+00, -3.4928e-01, -4.8146e+00, -9.3253e+00, -1.0544e+01,\n",
       "          -2.5028e+00, -5.8547e+00],\n",
       "         [-7.3948e-01,  9.6259e+00, -1.2564e+01, -6.1693e+00, -2.6509e+00,\n",
       "           2.5840e+00, -5.2738e-01, -2.4501e+00, -1.5711e+00, -2.4806e+00,\n",
       "          -9.0183e+00, -1.3020e+00,  9.9719e+00,  1.1747e+01, -1.4994e+01,\n",
       "           9.2190e+00, -5.5941e+00, -1.4825e+00,  5.9470e+00,  4.4348e+00,\n",
       "           3.1457e+00, -3.6311e+00,  5.7589e+00,  2.3338e+00, -1.0954e+01,\n",
       "           5.4463e-01,  2.6249e+00],\n",
       "         [-3.5875e+00, -8.5380e-01, -5.1718e+00, -5.2708e+00, -1.1098e+01,\n",
       "          -6.8196e-01, -8.2701e+00,  4.9140e+00, -8.1283e+00,  1.0941e+01,\n",
       "           4.6666e+00, -9.6282e-01,  1.3246e+01,  1.1417e+00, -3.8465e+00,\n",
       "           4.1722e+00,  1.6755e+01, -2.4557e+00, -5.2974e+00,  2.6257e+00,\n",
       "           5.3990e-01,  5.3572e+00, -6.7055e+00,  9.5985e+00, -1.0911e+01,\n",
       "           6.2596e+00, -9.4645e+00],\n",
       "         [-2.1177e+00,  1.0329e+01,  3.9978e+00, -9.5380e+00, -1.2300e+01,\n",
       "           2.1168e-01, -1.6525e+00, -3.4365e+00, -1.1985e+01,  6.2975e+00,\n",
       "           2.9836e+00, -3.5926e+00,  3.1709e+00, -4.5329e+00, -8.1738e-02,\n",
       "           3.8516e+00, -2.4884e+00, -5.6343e+00, -1.2810e+01,  4.9868e+00,\n",
       "          -7.0498e-01, -4.8596e+00,  5.5324e+00, -1.2689e+01, -4.7907e+00,\n",
       "          -3.9952e+00, -5.2785e+00],\n",
       "         [ 1.0055e+01, -2.7131e+00,  1.6424e+01,  5.1158e+00, -2.7470e+00,\n",
       "          -7.0005e+00, -1.3572e-01, -1.5045e+00,  2.3502e+00,  1.2114e+01,\n",
       "           2.8595e+00,  3.7035e+00,  4.8932e+00, -8.5141e+00,  7.0876e+00,\n",
       "          -7.8060e+00,  8.8266e+00, -3.3899e+00, -1.5961e+01,  2.3682e+00,\n",
       "           4.3169e+00,  2.7718e+00,  3.3269e+00,  4.0584e+00, -2.5302e+00,\n",
       "           3.1350e+00, -5.2928e+00],\n",
       "         [ 1.6084e+00,  8.8337e+00,  7.8723e+00, -5.5220e+00, -1.1051e+01,\n",
       "           6.4762e+00, -4.2332e+00, -2.0638e+00, -6.0371e+00,  1.4353e+01,\n",
       "           2.3087e+00, -1.1834e-01,  3.5997e+00, -6.9857e+00, -1.6586e+00,\n",
       "          -1.6200e+00,  9.2450e+00, -4.0817e+00, -5.3516e+00,  2.5796e+00,\n",
       "          -5.7206e+00, -4.4654e+00, -4.6254e+00, -4.1690e+00,  3.4643e+00,\n",
       "           3.8053e+00, -1.1285e+01],\n",
       "         [-8.2730e+00,  1.5600e+01, -1.5447e+01,  7.4920e-01, -5.8302e+00,\n",
       "           6.2343e+00, -1.3621e+00,  9.5617e+00,  1.7660e+00, -5.4266e-02,\n",
       "          -1.9806e+01, -1.9546e+00,  4.7599e+00,  1.0859e+01, -1.0739e+01,\n",
       "          -3.8065e+00,  4.3461e+00,  5.4845e+00,  1.1450e+01,  6.3144e+00,\n",
       "           2.6916e+00, -3.3539e+00,  4.4039e+00,  9.6953e+00, -5.0159e+00,\n",
       "           1.2460e+00, -2.1389e+00],\n",
       "         [-5.7553e+00,  4.6105e+00, -3.6598e+00, -8.4967e+00, -5.2850e+00,\n",
       "           3.8646e+00, -4.4236e+00, -6.0987e-01, -7.5793e+00,  4.7317e+00,\n",
       "          -9.1632e+00, -5.0911e-01,  1.4861e+00, -6.2868e-01, -1.0155e+01,\n",
       "           4.1174e+00, -4.9791e+00, -3.3764e+00, -2.8503e+00,  4.4750e+00,\n",
       "          -1.4980e+00, -3.4928e-01, -4.8146e+00, -9.3253e+00, -1.0544e+01,\n",
       "          -2.5028e+00, -5.8547e+00],\n",
       "         [-1.0497e+01,  7.4939e+00, -1.4844e+01, -9.0628e+00, -7.6027e+00,\n",
       "           6.7094e+00, -4.3477e+00,  6.1372e+00, -1.0290e+01,  8.7995e+00,\n",
       "          -6.4632e+00,  1.5693e+00,  8.8554e+00,  1.4069e+01, -1.9291e+01,\n",
       "           7.1253e+00,  9.5611e+00, -3.4982e+00,  7.4417e-01,  1.3632e+00,\n",
       "           4.0062e+00,  1.8438e-01, -1.8600e+00,  3.2958e+00, -1.1979e+01,\n",
       "          -2.2996e+00, -4.1931e+00],\n",
       "         [-5.7553e+00,  4.6105e+00, -3.6598e+00, -8.4967e+00, -5.2850e+00,\n",
       "           3.8646e+00, -4.4236e+00, -6.0987e-01, -7.5793e+00,  4.7317e+00,\n",
       "          -9.1632e+00, -5.0911e-01,  1.4861e+00, -6.2868e-01, -1.0155e+01,\n",
       "           4.1174e+00, -4.9791e+00, -3.3764e+00, -2.8503e+00,  4.4750e+00,\n",
       "          -1.4980e+00, -3.4928e-01, -4.8146e+00, -9.3253e+00, -1.0544e+01,\n",
       "          -2.5028e+00, -5.8547e+00],\n",
       "         [ 1.1406e+01,  5.9016e+00,  6.8591e+00,  4.0002e+00,  2.8833e+00,\n",
       "          -2.1173e+00,  1.2443e+00, -1.7021e+01, -2.3781e-01,  2.4098e+00,\n",
       "           5.0308e+00, -2.8584e+00,  6.7999e+00, -1.0636e+01, -8.8429e-01,\n",
       "           2.6120e+00,  3.7401e+00, -4.2307e+00, -2.3458e+01, -1.5585e+00,\n",
       "          -1.9495e+00,  1.7672e+00,  9.9429e-01, -1.2980e+00,  5.8543e+00,\n",
       "          -1.1898e+01, -2.9728e+00],\n",
       "         [ 1.0609e+01,  7.3515e+00,  5.5143e+00,  9.6045e+00, -2.3532e+00,\n",
       "           4.2470e+00, -3.7582e+00, -2.9447e+00,  1.6350e+01, -1.4290e+00,\n",
       "          -1.3340e+01,  4.2366e+00, -1.4546e+00,  3.1280e-01,  1.0150e+01,\n",
       "          -1.5199e+01,  1.0761e+00,  1.1018e+01,  1.0661e+01,  8.7616e-01,\n",
       "           6.0434e+00, -1.2140e+01,  1.1803e+01,  1.0609e+01,  6.4877e+00,\n",
       "           2.9916e+00, -3.7183e+00],\n",
       "         [ 1.4317e+01,  1.2418e+00, -3.6020e+00, -2.2586e+00, -3.8283e+00,\n",
       "          -7.1538e+00, -6.2494e+00,  4.2195e+00,  6.4593e+00, -3.0943e+00,\n",
       "          -2.1156e+01, -1.9407e+00, -4.0200e+00,  2.0166e+00,  4.2834e+00,\n",
       "          -5.6971e+00,  1.3300e+00,  6.6550e+00,  8.7180e+00,  4.6062e+00,\n",
       "           8.6597e+00, -2.0552e+00,  8.4225e+00,  6.5201e+00, -1.0864e+01,\n",
       "           9.0286e+00, -7.7268e+00],\n",
       "         [ 1.0609e+01,  7.3515e+00,  5.5143e+00,  9.6045e+00, -2.3532e+00,\n",
       "           4.2470e+00, -3.7582e+00, -2.9447e+00,  1.6350e+01, -1.4290e+00,\n",
       "          -1.3340e+01,  4.2366e+00, -1.4546e+00,  3.1280e-01,  1.0150e+01,\n",
       "          -1.5199e+01,  1.0761e+00,  1.1018e+01,  1.0661e+01,  8.7616e-01,\n",
       "           6.0434e+00, -1.2140e+01,  1.1803e+01,  1.0609e+01,  6.4877e+00,\n",
       "           2.9916e+00, -3.7183e+00],\n",
       "         [-3.5840e+00,  1.4708e+00, -5.4916e+00, -1.0492e+01, -3.1334e+00,\n",
       "          -1.0120e+00, -2.7268e+00, -4.9793e+00, -5.5180e+00,  3.8231e+00,\n",
       "          -6.5720e+00, -3.2993e+00,  4.0066e+00,  2.2508e+00, -8.0911e+00,\n",
       "           2.2976e+00, -3.9023e+00, -2.4247e+00, -7.6357e+00,  7.6604e+00,\n",
       "           2.3753e-01, -3.4861e+00,  4.2327e+00, -7.9251e+00, -9.4091e+00,\n",
       "          -2.8142e+00, -5.6366e+00],\n",
       "         [-5.7553e+00,  4.6105e+00, -3.6598e+00, -8.4967e+00, -5.2850e+00,\n",
       "           3.8646e+00, -4.4236e+00, -6.0987e-01, -7.5793e+00,  4.7317e+00,\n",
       "          -9.1632e+00, -5.0911e-01,  1.4861e+00, -6.2868e-01, -1.0155e+01,\n",
       "           4.1174e+00, -4.9791e+00, -3.3764e+00, -2.8503e+00,  4.4750e+00,\n",
       "          -1.4980e+00, -3.4928e-01, -4.8146e+00, -9.3253e+00, -1.0544e+01,\n",
       "          -2.5028e+00, -5.8547e+00],\n",
       "         [ 1.2806e+01,  6.1096e+00,  7.1055e+00, -5.6946e+00, -1.0387e+01,\n",
       "           1.4033e+00, -2.7661e+00, -6.1172e+00, -2.7983e+00,  4.2328e+00,\n",
       "          -3.5294e-01, -1.8667e+00,  4.6223e+00, -1.3134e+01,  1.3246e+00,\n",
       "           2.2001e+00,  3.2483e-01, -2.3366e+00, -1.7521e+01,  5.0455e+00,\n",
       "           6.9310e+00,  6.6470e-01,  6.5508e+00, -3.4081e+00, -1.5140e+00,\n",
       "          -5.4888e+00, -3.9281e+00],\n",
       "         [-7.3947e-01,  9.6259e+00, -1.2564e+01, -6.1693e+00, -2.6509e+00,\n",
       "           2.5840e+00, -5.2738e-01, -2.4501e+00, -1.5711e+00, -2.4806e+00,\n",
       "          -9.0183e+00, -1.3020e+00,  9.9719e+00,  1.1747e+01, -1.4994e+01,\n",
       "           9.2190e+00, -5.5941e+00, -1.4825e+00,  5.9470e+00,  4.4348e+00,\n",
       "           3.1457e+00, -3.6311e+00,  5.7589e+00,  2.3338e+00, -1.0954e+01,\n",
       "           5.4464e-01,  2.6249e+00],\n",
       "         [ 1.1406e+01,  5.9016e+00,  6.8591e+00,  4.0002e+00,  2.8833e+00,\n",
       "          -2.1173e+00,  1.2443e+00, -1.7021e+01, -2.3781e-01,  2.4098e+00,\n",
       "           5.0308e+00, -2.8584e+00,  6.7999e+00, -1.0636e+01, -8.8430e-01,\n",
       "           2.6120e+00,  3.7401e+00, -4.2307e+00, -2.3458e+01, -1.5585e+00,\n",
       "          -1.9495e+00,  1.7672e+00,  9.9430e-01, -1.2980e+00,  5.8543e+00,\n",
       "          -1.1898e+01, -2.9728e+00]], grad_fn=<AddBackward0>),\n",
       " tensor([ 5, 13, 13,  1,  0, 15, 12,  9, 22,  9,  1,  0,  1, 22,  1,  0,  9, 19,\n",
       "          1,  2,  5, 12, 12,  1,  0, 19, 15, 16,  8,  9,  1,  0]))"
      ]
     },
     "execution_count": 20,
     "metadata": {},
     "output_type": "execute_result"
    }
   ],
   "source": [
    "logits,Y"
   ]
  },
  {
   "cell_type": "markdown",
   "id": "2d48a104",
   "metadata": {},
   "source": [
    "**learning rate  pick**"
   ]
  },
  {
   "cell_type": "code",
   "execution_count": 21,
   "id": "5572a3f7",
   "metadata": {},
   "outputs": [],
   "source": [
    "#paragram init\n",
    "g = torch.Generator().manual_seed(2147483647) \n",
    "W1 = torch.randn(6,100, generator=g)\n",
    "b1   = torch.randn(100, generator=g)\n",
    "W2 = torch.randn((100,27), generator=g)\n",
    "b2 = torch.randn(27, generator=g)\n",
    "Parameters = [W1,b1,W2,b2,C]"
   ]
  },
  {
   "cell_type": "code",
   "execution_count": 22,
   "id": "4c65da66",
   "metadata": {},
   "outputs": [],
   "source": [
    "for p in Parameters:\n",
    "    p.requires_grad = True"
   ]
  },
  {
   "cell_type": "code",
   "execution_count": 23,
   "id": "40b4e0ff",
   "metadata": {},
   "outputs": [
    {
     "data": {
      "text/plain": [
       "tensor([0.0010, 0.0010, 0.0010, 0.0010, 0.0010, 0.0010, 0.0010, 0.0010, 0.0011,\n",
       "        0.0011, 0.0011, 0.0011, 0.0011, 0.0011, 0.0011, 0.0011, 0.0011, 0.0011,\n",
       "        0.0011, 0.0011, 0.0011, 0.0012, 0.0012, 0.0012, 0.0012, 0.0012, 0.0012,\n",
       "        0.0012, 0.0012, 0.0012, 0.0012, 0.0012, 0.0012, 0.0013, 0.0013, 0.0013,\n",
       "        0.0013, 0.0013, 0.0013, 0.0013, 0.0013, 0.0013, 0.0013, 0.0013, 0.0014,\n",
       "        0.0014, 0.0014, 0.0014, 0.0014, 0.0014, 0.0014, 0.0014, 0.0014, 0.0014,\n",
       "        0.0015, 0.0015, 0.0015, 0.0015, 0.0015, 0.0015, 0.0015, 0.0015, 0.0015,\n",
       "        0.0015, 0.0016, 0.0016, 0.0016, 0.0016, 0.0016, 0.0016, 0.0016, 0.0016,\n",
       "        0.0016, 0.0017, 0.0017, 0.0017, 0.0017, 0.0017, 0.0017, 0.0017, 0.0017,\n",
       "        0.0018, 0.0018, 0.0018, 0.0018, 0.0018, 0.0018, 0.0018, 0.0018, 0.0019,\n",
       "        0.0019, 0.0019, 0.0019, 0.0019, 0.0019, 0.0019, 0.0019, 0.0020, 0.0020,\n",
       "        0.0020, 0.0020, 0.0020, 0.0020, 0.0020, 0.0021, 0.0021, 0.0021, 0.0021,\n",
       "        0.0021, 0.0021, 0.0021, 0.0022, 0.0022, 0.0022, 0.0022, 0.0022, 0.0022,\n",
       "        0.0022, 0.0023, 0.0023, 0.0023, 0.0023, 0.0023, 0.0023, 0.0024, 0.0024,\n",
       "        0.0024, 0.0024, 0.0024, 0.0024, 0.0025, 0.0025, 0.0025, 0.0025, 0.0025,\n",
       "        0.0025, 0.0026, 0.0026, 0.0026, 0.0026, 0.0026, 0.0027, 0.0027, 0.0027,\n",
       "        0.0027, 0.0027, 0.0027, 0.0028, 0.0028, 0.0028, 0.0028, 0.0028, 0.0029,\n",
       "        0.0029, 0.0029, 0.0029, 0.0029, 0.0030, 0.0030, 0.0030, 0.0030, 0.0030,\n",
       "        0.0031, 0.0031, 0.0031, 0.0031, 0.0032, 0.0032, 0.0032, 0.0032, 0.0032,\n",
       "        0.0033, 0.0033, 0.0033, 0.0033, 0.0034, 0.0034, 0.0034, 0.0034, 0.0034,\n",
       "        0.0035, 0.0035, 0.0035, 0.0035, 0.0036, 0.0036, 0.0036, 0.0036, 0.0037,\n",
       "        0.0037, 0.0037, 0.0037, 0.0038, 0.0038, 0.0038, 0.0039, 0.0039, 0.0039,\n",
       "        0.0039, 0.0040, 0.0040, 0.0040, 0.0040, 0.0041, 0.0041, 0.0041, 0.0042,\n",
       "        0.0042, 0.0042, 0.0042, 0.0043, 0.0043, 0.0043, 0.0044, 0.0044, 0.0044,\n",
       "        0.0045, 0.0045, 0.0045, 0.0045, 0.0046, 0.0046, 0.0046, 0.0047, 0.0047,\n",
       "        0.0047, 0.0048, 0.0048, 0.0048, 0.0049, 0.0049, 0.0049, 0.0050, 0.0050,\n",
       "        0.0050, 0.0051, 0.0051, 0.0051, 0.0052, 0.0052, 0.0053, 0.0053, 0.0053,\n",
       "        0.0054, 0.0054, 0.0054, 0.0055, 0.0055, 0.0056, 0.0056, 0.0056, 0.0057,\n",
       "        0.0057, 0.0058, 0.0058, 0.0058, 0.0059, 0.0059, 0.0060, 0.0060, 0.0060,\n",
       "        0.0061, 0.0061, 0.0062, 0.0062, 0.0062, 0.0063, 0.0063, 0.0064, 0.0064,\n",
       "        0.0065, 0.0065, 0.0066, 0.0066, 0.0067, 0.0067, 0.0067, 0.0068, 0.0068,\n",
       "        0.0069, 0.0069, 0.0070, 0.0070, 0.0071, 0.0071, 0.0072, 0.0072, 0.0073,\n",
       "        0.0073, 0.0074, 0.0074, 0.0075, 0.0075, 0.0076, 0.0076, 0.0077, 0.0077,\n",
       "        0.0078, 0.0079, 0.0079, 0.0080, 0.0080, 0.0081, 0.0081, 0.0082, 0.0082,\n",
       "        0.0083, 0.0084, 0.0084, 0.0085, 0.0085, 0.0086, 0.0086, 0.0087, 0.0088,\n",
       "        0.0088, 0.0089, 0.0090, 0.0090, 0.0091, 0.0091, 0.0092, 0.0093, 0.0093,\n",
       "        0.0094, 0.0095, 0.0095, 0.0096, 0.0097, 0.0097, 0.0098, 0.0099, 0.0099,\n",
       "        0.0100, 0.0101, 0.0101, 0.0102, 0.0103, 0.0104, 0.0104, 0.0105, 0.0106,\n",
       "        0.0106, 0.0107, 0.0108, 0.0109, 0.0109, 0.0110, 0.0111, 0.0112, 0.0112,\n",
       "        0.0113, 0.0114, 0.0115, 0.0116, 0.0116, 0.0117, 0.0118, 0.0119, 0.0120,\n",
       "        0.0121, 0.0121, 0.0122, 0.0123, 0.0124, 0.0125, 0.0126, 0.0127, 0.0127,\n",
       "        0.0128, 0.0129, 0.0130, 0.0131, 0.0132, 0.0133, 0.0134, 0.0135, 0.0136,\n",
       "        0.0137, 0.0137, 0.0138, 0.0139, 0.0140, 0.0141, 0.0142, 0.0143, 0.0144,\n",
       "        0.0145, 0.0146, 0.0147, 0.0148, 0.0149, 0.0150, 0.0151, 0.0152, 0.0154,\n",
       "        0.0155, 0.0156, 0.0157, 0.0158, 0.0159, 0.0160, 0.0161, 0.0162, 0.0163,\n",
       "        0.0165, 0.0166, 0.0167, 0.0168, 0.0169, 0.0170, 0.0171, 0.0173, 0.0174,\n",
       "        0.0175, 0.0176, 0.0178, 0.0179, 0.0180, 0.0181, 0.0182, 0.0184, 0.0185,\n",
       "        0.0186, 0.0188, 0.0189, 0.0190, 0.0192, 0.0193, 0.0194, 0.0196, 0.0197,\n",
       "        0.0198, 0.0200, 0.0201, 0.0202, 0.0204, 0.0205, 0.0207, 0.0208, 0.0210,\n",
       "        0.0211, 0.0212, 0.0214, 0.0215, 0.0217, 0.0218, 0.0220, 0.0221, 0.0223,\n",
       "        0.0225, 0.0226, 0.0228, 0.0229, 0.0231, 0.0232, 0.0234, 0.0236, 0.0237,\n",
       "        0.0239, 0.0241, 0.0242, 0.0244, 0.0246, 0.0247, 0.0249, 0.0251, 0.0253,\n",
       "        0.0254, 0.0256, 0.0258, 0.0260, 0.0261, 0.0263, 0.0265, 0.0267, 0.0269,\n",
       "        0.0271, 0.0273, 0.0274, 0.0276, 0.0278, 0.0280, 0.0282, 0.0284, 0.0286,\n",
       "        0.0288, 0.0290, 0.0292, 0.0294, 0.0296, 0.0298, 0.0300, 0.0302, 0.0304,\n",
       "        0.0307, 0.0309, 0.0311, 0.0313, 0.0315, 0.0317, 0.0320, 0.0322, 0.0324,\n",
       "        0.0326, 0.0328, 0.0331, 0.0333, 0.0335, 0.0338, 0.0340, 0.0342, 0.0345,\n",
       "        0.0347, 0.0350, 0.0352, 0.0354, 0.0357, 0.0359, 0.0362, 0.0364, 0.0367,\n",
       "        0.0369, 0.0372, 0.0375, 0.0377, 0.0380, 0.0382, 0.0385, 0.0388, 0.0390,\n",
       "        0.0393, 0.0396, 0.0399, 0.0401, 0.0404, 0.0407, 0.0410, 0.0413, 0.0416,\n",
       "        0.0418, 0.0421, 0.0424, 0.0427, 0.0430, 0.0433, 0.0436, 0.0439, 0.0442,\n",
       "        0.0445, 0.0448, 0.0451, 0.0455, 0.0458, 0.0461, 0.0464, 0.0467, 0.0471,\n",
       "        0.0474, 0.0477, 0.0480, 0.0484, 0.0487, 0.0491, 0.0494, 0.0497, 0.0501,\n",
       "        0.0504, 0.0508, 0.0511, 0.0515, 0.0518, 0.0522, 0.0526, 0.0529, 0.0533,\n",
       "        0.0537, 0.0540, 0.0544, 0.0548, 0.0552, 0.0556, 0.0559, 0.0563, 0.0567,\n",
       "        0.0571, 0.0575, 0.0579, 0.0583, 0.0587, 0.0591, 0.0595, 0.0599, 0.0604,\n",
       "        0.0608, 0.0612, 0.0616, 0.0621, 0.0625, 0.0629, 0.0634, 0.0638, 0.0642,\n",
       "        0.0647, 0.0651, 0.0656, 0.0660, 0.0665, 0.0670, 0.0674, 0.0679, 0.0684,\n",
       "        0.0688, 0.0693, 0.0698, 0.0703, 0.0708, 0.0713, 0.0718, 0.0723, 0.0728,\n",
       "        0.0733, 0.0738, 0.0743, 0.0748, 0.0753, 0.0758, 0.0764, 0.0769, 0.0774,\n",
       "        0.0780, 0.0785, 0.0790, 0.0796, 0.0802, 0.0807, 0.0813, 0.0818, 0.0824,\n",
       "        0.0830, 0.0835, 0.0841, 0.0847, 0.0853, 0.0859, 0.0865, 0.0871, 0.0877,\n",
       "        0.0883, 0.0889, 0.0895, 0.0901, 0.0908, 0.0914, 0.0920, 0.0927, 0.0933,\n",
       "        0.0940, 0.0946, 0.0953, 0.0959, 0.0966, 0.0973, 0.0979, 0.0986, 0.0993,\n",
       "        0.1000, 0.1007, 0.1014, 0.1021, 0.1028, 0.1035, 0.1042, 0.1050, 0.1057,\n",
       "        0.1064, 0.1072, 0.1079, 0.1087, 0.1094, 0.1102, 0.1109, 0.1117, 0.1125,\n",
       "        0.1133, 0.1140, 0.1148, 0.1156, 0.1164, 0.1172, 0.1181, 0.1189, 0.1197,\n",
       "        0.1205, 0.1214, 0.1222, 0.1231, 0.1239, 0.1248, 0.1256, 0.1265, 0.1274,\n",
       "        0.1283, 0.1292, 0.1301, 0.1310, 0.1319, 0.1328, 0.1337, 0.1346, 0.1356,\n",
       "        0.1365, 0.1374, 0.1384, 0.1394, 0.1403, 0.1413, 0.1423, 0.1433, 0.1443,\n",
       "        0.1453, 0.1463, 0.1473, 0.1483, 0.1493, 0.1504, 0.1514, 0.1525, 0.1535,\n",
       "        0.1546, 0.1557, 0.1567, 0.1578, 0.1589, 0.1600, 0.1611, 0.1623, 0.1634,\n",
       "        0.1645, 0.1657, 0.1668, 0.1680, 0.1691, 0.1703, 0.1715, 0.1727, 0.1739,\n",
       "        0.1751, 0.1763, 0.1775, 0.1788, 0.1800, 0.1812, 0.1825, 0.1838, 0.1850,\n",
       "        0.1863, 0.1876, 0.1889, 0.1902, 0.1916, 0.1929, 0.1942, 0.1956, 0.1969,\n",
       "        0.1983, 0.1997, 0.2010, 0.2024, 0.2038, 0.2053, 0.2067, 0.2081, 0.2096,\n",
       "        0.2110, 0.2125, 0.2140, 0.2154, 0.2169, 0.2184, 0.2200, 0.2215, 0.2230,\n",
       "        0.2246, 0.2261, 0.2277, 0.2293, 0.2309, 0.2325, 0.2341, 0.2357, 0.2373,\n",
       "        0.2390, 0.2406, 0.2423, 0.2440, 0.2457, 0.2474, 0.2491, 0.2508, 0.2526,\n",
       "        0.2543, 0.2561, 0.2579, 0.2597, 0.2615, 0.2633, 0.2651, 0.2669, 0.2688,\n",
       "        0.2707, 0.2725, 0.2744, 0.2763, 0.2783, 0.2802, 0.2821, 0.2841, 0.2861,\n",
       "        0.2880, 0.2900, 0.2921, 0.2941, 0.2961, 0.2982, 0.3002, 0.3023, 0.3044,\n",
       "        0.3065, 0.3087, 0.3108, 0.3130, 0.3151, 0.3173, 0.3195, 0.3217, 0.3240,\n",
       "        0.3262, 0.3285, 0.3308, 0.3331, 0.3354, 0.3377, 0.3400, 0.3424, 0.3448,\n",
       "        0.3472, 0.3496, 0.3520, 0.3544, 0.3569, 0.3594, 0.3619, 0.3644, 0.3669,\n",
       "        0.3695, 0.3720, 0.3746, 0.3772, 0.3798, 0.3825, 0.3851, 0.3878, 0.3905,\n",
       "        0.3932, 0.3959, 0.3987, 0.4014, 0.4042, 0.4070, 0.4098, 0.4127, 0.4155,\n",
       "        0.4184, 0.4213, 0.4243, 0.4272, 0.4302, 0.4331, 0.4362, 0.4392, 0.4422,\n",
       "        0.4453, 0.4484, 0.4515, 0.4546, 0.4578, 0.4610, 0.4642, 0.4674, 0.4706,\n",
       "        0.4739, 0.4772, 0.4805, 0.4838, 0.4872, 0.4906, 0.4940, 0.4974, 0.5008,\n",
       "        0.5043, 0.5078, 0.5113, 0.5149, 0.5185, 0.5221, 0.5257, 0.5293, 0.5330,\n",
       "        0.5367, 0.5404, 0.5442, 0.5479, 0.5517, 0.5556, 0.5594, 0.5633, 0.5672,\n",
       "        0.5712, 0.5751, 0.5791, 0.5831, 0.5872, 0.5913, 0.5954, 0.5995, 0.6036,\n",
       "        0.6078, 0.6120, 0.6163, 0.6206, 0.6249, 0.6292, 0.6336, 0.6380, 0.6424,\n",
       "        0.6469, 0.6513, 0.6559, 0.6604, 0.6650, 0.6696, 0.6743, 0.6789, 0.6837,\n",
       "        0.6884, 0.6932, 0.6980, 0.7028, 0.7077, 0.7126, 0.7176, 0.7225, 0.7275,\n",
       "        0.7326, 0.7377, 0.7428, 0.7480, 0.7531, 0.7584, 0.7636, 0.7689, 0.7743,\n",
       "        0.7796, 0.7850, 0.7905, 0.7960, 0.8015, 0.8071, 0.8127, 0.8183, 0.8240,\n",
       "        0.8297, 0.8355, 0.8412, 0.8471, 0.8530, 0.8589, 0.8648, 0.8708, 0.8769,\n",
       "        0.8830, 0.8891, 0.8953, 0.9015, 0.9077, 0.9140, 0.9204, 0.9268, 0.9332,\n",
       "        0.9397, 0.9462, 0.9528, 0.9594, 0.9660, 0.9727, 0.9795, 0.9863, 0.9931,\n",
       "        1.0000])"
      ]
     },
     "execution_count": 23,
     "metadata": {},
     "output_type": "execute_result"
    }
   ],
   "source": [
    "#learning sapce\n",
    "lre  = torch.linspace(-3,0,1000)\n",
    "lrs = 10**lre\n",
    "lrs\n"
   ]
  },
  {
   "cell_type": "code",
   "execution_count": 24,
   "id": "2a8e877a",
   "metadata": {},
   "outputs": [
    {
     "name": "stdout",
     "output_type": "stream",
     "text": [
      "0.2553366720676422\n"
     ]
    }
   ],
   "source": [
    "#forward  and back  propagation   BATCH\n",
    "lossi = []\n",
    "for i in range(1000):\n",
    "    batchi = torch.randint(Y.shape[0],(32,),generator=g)\n",
    "    emb = C[X[batchi]] #X[batch] (32,3) embedding just like extends two dims\n",
    "    h = torch.tanh(emb.view(-1,6)@W1 + b1)\n",
    "    logits = h@W2 +b2\n",
    "    loss = F.cross_entropy(logits,Y[batchi])\n",
    "    for p in Parameters:\n",
    "        p.grad = None\n",
    "    loss.backward()\n",
    "\n",
    "    lr  = lrs[i] \n",
    "    for p in Parameters:\n",
    "        p.data  += -0.01*p.grad\n",
    "    lossi.append(loss.item())\n",
    "    iterration.append(i)\n",
    "    \n",
    "    \n",
    "print(loss.item())"
   ]
  },
  {
   "cell_type": "code",
   "execution_count": 25,
   "id": "337a5e57",
   "metadata": {},
   "outputs": [
    {
     "data": {
      "text/plain": [
       "Text(0, 0.5, 'loss')"
      ]
     },
     "execution_count": 25,
     "metadata": {},
     "output_type": "execute_result"
    },
    {
     "data": {
      "image/png": "[encoded data removed]",
      "text/plain": [
       "<Figure size 640x480 with 1 Axes>"
      ]
     },
     "metadata": {},
     "output_type": "display_data"
    }
   ],
   "source": [
    "plt.plot(lrs,lossi)\n",
    "plt.xlabel(\"learning rate\")\n",
    "plt.ylabel(\"loss\")"
   ]
  },
  {
   "cell_type": "code",
   "execution_count": 26,
   "id": "e97d7079",
   "metadata": {},
   "outputs": [
    {
     "data": {
      "text/plain": [
       "Text(0, 0.5, 'loss')"
      ]
     },
     "execution_count": 26,
     "metadata": {},
     "output_type": "execute_result"
    },
    {
     "data": {
      "image/png": "[encoded data removed]",
      "text/plain": [
       "<Figure size 640x480 with 1 Axes>"
      ]
     },
     "metadata": {},
     "output_type": "display_data"
    }
   ],
   "source": [
    "plt.plot(lre,lossi)\n",
    "plt.xlabel(\"learning number\")\n",
    "plt.ylabel(\"loss\")"
   ]
  },
  {
   "cell_type": "code",
   "execution_count": 27,
   "id": "8b03bdd8",
   "metadata": {},
   "outputs": [],
   "source": [
    "#dataset splict (train  dev test)\n",
    "def split_dataset(words):\n",
    "    X,Y = [ ] , [ ]\n",
    "    contextNum = 3\n",
    "    for word in words :\n",
    "        SlidingWindow = contextNum * [0]\n",
    "        for char in word + '.' :\n",
    "            yi = stoi[char]\n",
    "            X.append(SlidingWindow)\n",
    "            Y.append(yi)\n",
    "            # print(''.join( itos[i] for i in SlidingWindow) + \"    ---->    \" + char)\n",
    "            SlidingWindow = SlidingWindow[1:] + [yi]\n",
    "\n",
    "    X = torch.tensor(X)\n",
    "    Y = torch.tensor(Y)\n",
    "    print(X.shape,Y.shape)\n",
    "    return X , Y                \n",
    "\n"
   ]
  },
  {
   "cell_type": "code",
   "execution_count": 28,
   "id": "7fb75b49",
   "metadata": {},
   "outputs": [
    {
     "data": {
      "text/plain": [
       "(25626, 28829)"
      ]
     },
     "execution_count": 28,
     "metadata": {},
     "output_type": "execute_result"
    }
   ],
   "source": [
    "random.seed(42)\n",
    "random.shuffle(words)\n",
    "n1 = int (0.8*(len(words)))\n",
    "n2 = int (0.9*(len(words)))\n",
    "n1,n2"
   ]
  },
  {
   "cell_type": "code",
   "execution_count": 29,
   "id": "457cf629",
   "metadata": {},
   "outputs": [
    {
     "name": "stdout",
     "output_type": "stream",
     "text": [
      "torch.Size([182625, 3]) torch.Size([182625])\n",
      "torch.Size([22655, 3]) torch.Size([22655])\n",
      "torch.Size([22866, 3]) torch.Size([22866])\n"
     ]
    }
   ],
   "source": [
    "Xtrain , Ytrain = split_dataset(words[:n1])\n",
    "Xdev , Ydev = split_dataset(words[n1:n2])\n",
    "Xte , Yte = split_dataset(words[n2:])"
   ]
  },
  {
   "cell_type": "markdown",
   "id": "cb52c61f",
   "metadata": {},
   "source": [
    "***evaluate***"
   ]
  },
  {
   "cell_type": "code",
   "execution_count": 30,
   "id": "562af69d",
   "metadata": {},
   "outputs": [
    {
     "data": {
      "text/plain": [
       "3481"
      ]
     },
     "execution_count": 30,
     "metadata": {},
     "output_type": "execute_result"
    }
   ],
   "source": [
    "sum(p.nelement() for p in Parameters) # number of parameters in total"
   ]
  },
  {
   "cell_type": "code",
   "execution_count": 31,
   "id": "a2e5b982",
   "metadata": {},
   "outputs": [
    {
     "name": "stdout",
     "output_type": "stream",
     "text": [
      "2.3684158325195312\n"
     ]
    }
   ],
   "source": [
    "#forward  and back  propagation   BATCH\n",
    "for i in range(10000):\n",
    "    batchi = torch.randint(Ytrain.shape[0],(32,),generator=g)\n",
    "    emb = C[Xtrain[batchi]] #X[batch] (32,3) embedding just like extends two dims\n",
    "    h = torch.tanh(emb.view(-1,6)@W1 + b1)\n",
    "    logits = h@W2 +b2\n",
    "    loss = F.cross_entropy(logits,Ytrain[batchi])\n",
    "    for p in Parameters:\n",
    "        p.grad = None\n",
    "    loss.backward()\n",
    "\n",
    "    for p in Parameters:\n",
    "        p.data  += -0.01*p.grad\n",
    "    lossi.append(loss.item())\n",
    "    iterration.append(i)\n",
    "    \n",
    "print(loss.item())"
   ]
  },
  {
   "cell_type": "code",
   "execution_count": 32,
   "id": "e19332b2",
   "metadata": {},
   "outputs": [
    {
     "name": "stdout",
     "output_type": "stream",
     "text": [
      "2.5497775077819824\n"
     ]
    }
   ],
   "source": [
    "#train ev\n",
    "emb = C[Xtrain] #X[batch] (32,3) embedding just like extends two dims\n",
    "h = torch.tanh(emb.view(-1,6)@W1 + b1)\n",
    "logits = h@W2 +b2\n",
    "loss = F.cross_entropy(logits,Ytrain)\n",
    "print(loss.item())"
   ]
  },
  {
   "cell_type": "code",
   "execution_count": null,
   "id": "139c4e54",
   "metadata": {},
   "outputs": [
    {
     "name": "stdout",
     "output_type": "stream",
     "text": [
      "2.5418081283569336\n"
     ]
    }
   ],
   "source": [
    "#dev\n",
    "emb = C[Xdev] \n",
    "h = torch.tanh(emb.view(-1,6)@W1 + b1)\n",
    "logits = h@W2 +b2\n",
    "loss = F.cross_entropy(logits,Ydev)\n",
    "print(loss.item())"
   ]
  },
  {
   "cell_type": "code",
   "execution_count": 34,
   "id": "201402bf",
   "metadata": {},
   "outputs": [
    {
     "name": "stdout",
     "output_type": "stream",
     "text": [
      "2.5481231212615967\n"
     ]
    }
   ],
   "source": [
    "#test\n",
    "emb = C[Xte] \n",
    "h = torch.tanh(emb.view(-1,6)@W1 + b1)\n",
    "logits = h@W2 +b2\n",
    "loss = F.cross_entropy(logits,Yte)\n",
    "print(loss.item())"
   ]
  },
  {
   "cell_type": "code",
   "execution_count": 35,
   "id": "27bbd65c",
   "metadata": {},
   "outputs": [
    {
     "data": {
      "image/png": "[encoded data removed]",
      "text/plain": [
       "<Figure size 800x800 with 1 Axes>"
      ]
     },
     "metadata": {},
     "output_type": "display_data"
    }
   ],
   "source": [
    "plt.figure(figsize = (8,8))\n",
    "plt.scatter(C[:,0].data, C[:,1].data, s = 200)\n",
    "\n",
    "for i in range(C.shape[0]):\n",
    "    plt.text(C[i,0].item(),C[i,1].item(), itos[i], ha = \"center\", va = \"center\", color= \"white\")\n",
    "plt.grid('minor')"
   ]
  },
  {
   "cell_type": "markdown",
   "id": "5c255de6",
   "metadata": {},
   "source": [
    "***Change Hyperparameters***"
   ]
  },
  {
   "cell_type": "code",
   "execution_count": 41,
   "id": "5a7d2f95",
   "metadata": {},
   "outputs": [],
   "source": [
    "#parameters init\n",
    "g = torch.Generator().manual_seed(2147483647) \n",
    "C = torch.randn((27, 10), generator=g)\n",
    "W1 = torch.randn(30,200, generator=g)\n",
    "b1   = torch.randn(200, generator=g)\n",
    "W2 = torch.randn((200,27), generator=g)\n",
    "b2 = torch.randn(27, generator=g)\n",
    "Parameters = [W1,b1,W2,b2,C]"
   ]
  },
  {
   "cell_type": "code",
   "execution_count": 43,
   "id": "84d4fa7d",
   "metadata": {},
   "outputs": [
    {
     "data": {
      "text/plain": [
       "11897"
      ]
     },
     "execution_count": 43,
     "metadata": {},
     "output_type": "execute_result"
    }
   ],
   "source": [
    "sum(p.nelement() for p in Parameters) # number of parameters in total"
   ]
  },
  {
   "cell_type": "code",
   "execution_count": 44,
   "id": "1ad60cf6",
   "metadata": {},
   "outputs": [],
   "source": [
    "for p in Parameters:\n",
    "    p.requires_grad = True"
   ]
  },
  {
   "cell_type": "code",
   "execution_count": 71,
   "id": "fabc4ff9",
   "metadata": {},
   "outputs": [
    {
     "name": "stdout",
     "output_type": "stream",
     "text": [
      "2.2219552993774414\n"
     ]
    }
   ],
   "source": [
    "#forward  and back  propagation   BATCH\n",
    "for i in range(10000):\n",
    "    batchi = torch.randint(Ytrain.shape[0],(32,),generator=g)\n",
    "    emb = C[Xtrain[batchi]] #X[batch] (32,3) embedding just like extends two dims\n",
    "    h = torch.tanh(emb.view(-1,30)@W1 + b1)\n",
    "    logits = h@W2 +b2\n",
    "    loss = F.cross_entropy(logits,Ytrain[batchi])\n",
    "    for p in Parameters:\n",
    "        p.grad = None\n",
    "    loss.backward()\n",
    "\n",
    "    for p in Parameters:\n",
    "        p.data  += -0.01*p.grad\n",
    "    lossi.append(loss.item())\n",
    "    iterration.append(i)\n",
    "    \n",
    "print(loss.item())"
   ]
  },
  {
   "cell_type": "code",
   "execution_count": 72,
   "id": "4790518a",
   "metadata": {},
   "outputs": [
    {
     "name": "stdout",
     "output_type": "stream",
     "text": [
      "2.6234211921691895\n"
     ]
    }
   ],
   "source": [
    "#train ev\n",
    "emb = C[Xtrain] \n",
    "h = torch.tanh(emb.view(-1,30)@W1 + b1)\n",
    "logits = h@W2 +b2\n",
    "loss = F.cross_entropy(logits,Ytrain)\n",
    "print(loss.item())"
   ]
  },
  {
   "cell_type": "code",
   "execution_count": 73,
   "id": "555785cb",
   "metadata": {},
   "outputs": [
    {
     "name": "stdout",
     "output_type": "stream",
     "text": [
      "2.6369588375091553\n"
     ]
    }
   ],
   "source": [
    "#dev\n",
    "emb = C[Xdev] \n",
    "h = torch.tanh(emb.view(-1,30)@W1 + b1)\n",
    "logits = h@W2 +b2\n",
    "loss = F.cross_entropy(logits,Ydev)\n",
    "print(loss.item())"
   ]
  },
  {
   "cell_type": "code",
   "execution_count": 62,
   "id": "dfd984e7",
   "metadata": {},
   "outputs": [
    {
     "name": "stdout",
     "output_type": "stream",
     "text": [
      "2.923823595046997\n"
     ]
    }
   ],
   "source": [
    "#test\n",
    "emb = C[Xte] \n",
    "h = torch.tanh(emb.view(-1,30)@W1 + b1)\n",
    "logits = h@W2 +b2\n",
    "loss = F.cross_entropy(logits,Yte)\n",
    "print(loss.item())"
   ]
  },
  {
   "cell_type": "markdown",
   "id": "28f4bcc6",
   "metadata": {},
   "source": [
    "***sample***"
   ]
  },
  {
   "cell_type": "code",
   "execution_count": 74,
   "id": "b6a4be22",
   "metadata": {},
   "outputs": [
    {
     "data": {
      "text/plain": [
       "torch.Size([1, 3, 10])"
      ]
     },
     "execution_count": 74,
     "metadata": {},
     "output_type": "execute_result"
    }
   ],
   "source": [
    "#sample\n",
    "context = [0] * contextNum\n",
    "C[torch.tensor([context])].shape"
   ]
  },
  {
   "cell_type": "code",
   "execution_count": 75,
   "id": "5044e7ac",
   "metadata": {},
   "outputs": [
    {
     "name": "stdout",
     "output_type": "stream",
     "text": [
      "mona.\n",
      "maya.\n",
      "zheel.\n",
      "ndyryal.\n",
      "remerstendraj.\n",
      "cadseedon.\n",
      "iihely.\n",
      "jenleiela.\n",
      "ananareelye.\n",
      "malaia.\n",
      "noshdanrishimies.\n",
      "kin.\n",
      "roneliranthonanu.\n",
      "zence.\n",
      "ruy.\n",
      "julieha.\n",
      "kaysa.\n",
      "sakyan.\n",
      "hil.\n",
      "sakylisun.\n"
     ]
    }
   ],
   "source": [
    "# sample from the model\n",
    "g = torch.Generator().manual_seed(2147483647 + 10)\n",
    "for _ in range(20):\n",
    "    context = contextNum * [0]\n",
    "    out =[]\n",
    "    while 1 :\n",
    "        h = torch.tanh(C[torch.tensor(context)].view(1,-1)@W1 +b1)\n",
    "        logits = h@W2 + b2\n",
    "        probs = F.softmax(logits,dim=1)\n",
    "        ix = torch.multinomial(probs,1,generator=g).item()\n",
    "        context = context[1:] + [ix]\n",
    "        out.append(ix)\n",
    "        if ix == 0:\n",
    "            break\n",
    "\n",
    "    print(''.join(itos[i] for i in out ))    "
   ]
  }
 ],
 "metadata": {
  "kernelspec": {
   "display_name": "DeepLearning",
   "language": "python",
   "name": "python3"
  },
  "language_info": {
   "codemirror_mode": {
    "name": "ipython",
    "version": 3
   },
   "file_extension": ".py",
   "mimetype": "text/x-python",
   "name": "python",
   "nbconvert_exporter": "python",
   "pygments_lexer": "ipython3",
   "version": "3.11.13"
  }
 },
 "nbformat": 4,
 "nbformat_minor": 5
}
